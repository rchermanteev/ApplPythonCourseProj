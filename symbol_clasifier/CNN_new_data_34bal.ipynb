{
 "cells": [
  {
   "cell_type": "markdown",
   "metadata": {},
   "source": [
    "датасет сгененрован командами:\n",
    "\n",
    "``` python extract.py -b 34 -d 2011 2012 2013 -c all -t 5 ```\n",
    "\n",
    "```python balance.py -b 34 -ub 5000```\n"
   ]
  },
  {
   "cell_type": "code",
   "execution_count": 2,
   "metadata": {},
   "outputs": [],
   "source": [
    "import pickle\n",
    "import pandas as pd\n",
    "import numpy as np\n",
    "import tensorflow as tf\n",
    "from tensorflow import keras\n",
    "import matplotlib.pyplot as plt\n",
    "\n",
    "from keras.models import Sequential,Model\n",
    "from keras.layers import Dense, Input, Flatten, Conv2D, MaxPooling2D, Activation\n",
    "\n",
    "%matplotlib inline"
   ]
  },
  {
   "cell_type": "code",
   "execution_count": 3,
   "metadata": {},
   "outputs": [],
   "source": [
    "df_train = pd.DataFrame(pd.read_pickle(\"train34bal/train.pickle\"))\n",
    "df_test = pd.DataFrame(pd.read_pickle(\"test34bal/test.pickle\"))"
   ]
  },
  {
   "cell_type": "code",
   "execution_count": 4,
   "metadata": {},
   "outputs": [
    {
     "data": {
      "text/html": [
       "<div>\n",
       "<style scoped>\n",
       "    .dataframe tbody tr th:only-of-type {\n",
       "        vertical-align: middle;\n",
       "    }\n",
       "\n",
       "    .dataframe tbody tr th {\n",
       "        vertical-align: top;\n",
       "    }\n",
       "\n",
       "    .dataframe thead th {\n",
       "        text-align: right;\n",
       "    }\n",
       "</style>\n",
       "<table border=\"1\" class=\"dataframe\">\n",
       "  <thead>\n",
       "    <tr style=\"text-align: right;\">\n",
       "      <th></th>\n",
       "      <th>features</th>\n",
       "      <th>label</th>\n",
       "    </tr>\n",
       "  </thead>\n",
       "  <tbody>\n",
       "    <tr>\n",
       "      <th>0</th>\n",
       "      <td>[1, 1, 1, 1, 1, 1, 1, 1, 1, 1, 1, 1, 1, 1, 1, ...</td>\n",
       "      <td>[0, 0, 0, 0, 0, 0, 0, 0, 0, 1, 0, 0, 0, 0, 0, ...</td>\n",
       "    </tr>\n",
       "    <tr>\n",
       "      <th>1</th>\n",
       "      <td>[1.0, 1.0, 1.0, 1.0, 1.0, 1.0, 1.0, 1.0, 1.0, ...</td>\n",
       "      <td>[0, 0, 0, 0, 0, 0, 0, 0, 0, 0, 0, 0, 0, 0, 0, ...</td>\n",
       "    </tr>\n",
       "    <tr>\n",
       "      <th>2</th>\n",
       "      <td>[1.0, 1.0, 1.0, 1.0, 1.0, 1.0, 1.0, 1.0, 1.0, ...</td>\n",
       "      <td>[0, 0, 0, 0, 0, 0, 0, 0, 1, 0, 0, 0, 0, 0, 0, ...</td>\n",
       "    </tr>\n",
       "    <tr>\n",
       "      <th>3</th>\n",
       "      <td>[1.0, 1.0, 1.0, 1.0, 1.0, 1.0, 1.0, 1.0, 1.0, ...</td>\n",
       "      <td>[0, 0, 0, 0, 1, 0, 0, 0, 0, 0, 0, 0, 0, 0, 0, ...</td>\n",
       "    </tr>\n",
       "    <tr>\n",
       "      <th>4</th>\n",
       "      <td>[1.0, 1.0, 1.0, 1.0, 1.0, 1.0, 1.0, 1.0, 1.0, ...</td>\n",
       "      <td>[0, 0, 0, 0, 0, 0, 0, 0, 0, 0, 0, 0, 0, 0, 0, ...</td>\n",
       "    </tr>\n",
       "  </tbody>\n",
       "</table>\n",
       "</div>"
      ],
      "text/plain": [
       "                                            features  \\\n",
       "0  [1, 1, 1, 1, 1, 1, 1, 1, 1, 1, 1, 1, 1, 1, 1, ...   \n",
       "1  [1.0, 1.0, 1.0, 1.0, 1.0, 1.0, 1.0, 1.0, 1.0, ...   \n",
       "2  [1.0, 1.0, 1.0, 1.0, 1.0, 1.0, 1.0, 1.0, 1.0, ...   \n",
       "3  [1.0, 1.0, 1.0, 1.0, 1.0, 1.0, 1.0, 1.0, 1.0, ...   \n",
       "4  [1.0, 1.0, 1.0, 1.0, 1.0, 1.0, 1.0, 1.0, 1.0, ...   \n",
       "\n",
       "                                               label  \n",
       "0  [0, 0, 0, 0, 0, 0, 0, 0, 0, 1, 0, 0, 0, 0, 0, ...  \n",
       "1  [0, 0, 0, 0, 0, 0, 0, 0, 0, 0, 0, 0, 0, 0, 0, ...  \n",
       "2  [0, 0, 0, 0, 0, 0, 0, 0, 1, 0, 0, 0, 0, 0, 0, ...  \n",
       "3  [0, 0, 0, 0, 1, 0, 0, 0, 0, 0, 0, 0, 0, 0, 0, ...  \n",
       "4  [0, 0, 0, 0, 0, 0, 0, 0, 0, 0, 0, 0, 0, 0, 0, ...  "
      ]
     },
     "execution_count": 4,
     "metadata": {},
     "output_type": "execute_result"
    }
   ],
   "source": [
    "df_train.head()"
   ]
  },
  {
   "cell_type": "code",
   "execution_count": 5,
   "metadata": {},
   "outputs": [],
   "source": [
    "def features_to_matrix(dataset):\n",
    "    pixs = dataset['features'].apply(pd.Series)\n",
    "    pixs = pixs.rename(columns = lambda x: 'pix_' + str(x))\n",
    "    return pixs"
   ]
  },
  {
   "cell_type": "code",
   "execution_count": 6,
   "metadata": {},
   "outputs": [
    {
     "data": {
      "text/plain": [
       "(516072, 1156)"
      ]
     },
     "execution_count": 6,
     "metadata": {},
     "output_type": "execute_result"
    }
   ],
   "source": [
    "x_train = features_to_matrix(df_train[:70000])\n",
    "x_test = features_to_matrix(df_test)\n",
    "x_train = pd.concat([x_train, features_to_matrix(df_train[70000:])], axis=0)\n",
    "x_train.shape"
   ]
  },
  {
   "cell_type": "code",
   "execution_count": 7,
   "metadata": {},
   "outputs": [],
   "source": [
    "y_test = df_test['label']\n",
    "y_test = y_test.apply(pd.Series)\n",
    "y_test = y_test.rename(columns = lambda x: 'class_' + str(x))"
   ]
  },
  {
   "cell_type": "code",
   "execution_count": 8,
   "metadata": {},
   "outputs": [
    {
     "data": {
      "text/plain": [
       "(516072, 101)"
      ]
     },
     "execution_count": 8,
     "metadata": {},
     "output_type": "execute_result"
    }
   ],
   "source": [
    "y_train = df_train['label']\n",
    "y_train = y_train.apply(pd.Series)\n",
    "y_train = y_train.rename(columns = lambda x: 'class_' + str(x))\n",
    "y_train.shape"
   ]
  },
  {
   "cell_type": "code",
   "execution_count": 9,
   "metadata": {},
   "outputs": [],
   "source": [
    "x_reshaped = x_train.values.reshape((x_train.shape[0], 34, 34, 1))\n",
    "x_test_reshaped = x_test.values.reshape(x_test.shape[0], 34, 34, 1)"
   ]
  },
  {
   "cell_type": "code",
   "execution_count": 10,
   "metadata": {},
   "outputs": [
    {
     "data": {
      "text/plain": [
       "101"
      ]
     },
     "execution_count": 10,
     "metadata": {},
     "output_type": "execute_result"
    }
   ],
   "source": [
    "hidden_size = 50\n",
    "classes_num = y_train.shape[1]\n",
    "classes_num"
   ]
  },
  {
   "cell_type": "code",
   "execution_count": 11,
   "metadata": {},
   "outputs": [],
   "source": [
    "model = Sequential()\n",
    "model.add(Conv2D(7, kernel_size=7, input_shape=(34,34,1)))\n",
    "model.add(MaxPooling2D(pool_size=(2, 2)))\n",
    "model.add(Activation('relu'))\n",
    "model.add(Conv2D(22, kernel_size=3))\n",
    "model.add(MaxPooling2D(pool_size=(2, 2)))\n",
    "model.add(Activation('relu'))\n",
    "model.add(Flatten())\n",
    "model.add(Dense(classes_num, activation='softmax'))"
   ]
  },
  {
   "cell_type": "code",
   "execution_count": 12,
   "metadata": {},
   "outputs": [],
   "source": [
    "optimazer = keras.optimizers.Adam(lr=0.0008, beta_1=0.9, beta_2=0.999, amsgrad=False)"
   ]
  },
  {
   "cell_type": "code",
   "execution_count": 13,
   "metadata": {},
   "outputs": [],
   "source": [
    "model.compile(loss='categorical_crossentropy', optimizer='adam', metrics=['accuracy'])"
   ]
  },
  {
   "cell_type": "code",
   "execution_count": 14,
   "metadata": {},
   "outputs": [
    {
     "name": "stdout",
     "output_type": "stream",
     "text": [
      "Train on 412857 samples, validate on 103215 samples\n",
      "Epoch 1/13\n",
      "412857/412857 [==============================] - 81s 196us/step - loss: 0.7126 - accuracy: 0.7905 - val_loss: 0.4432 - val_accuracy: 0.8610\n",
      "Epoch 2/13\n",
      "412857/412857 [==============================] - 83s 200us/step - loss: 0.3712 - accuracy: 0.8796 - val_loss: 0.3317 - val_accuracy: 0.8921\n",
      "Epoch 3/13\n",
      "412857/412857 [==============================] - 82s 199us/step - loss: 0.2890 - accuracy: 0.9034 - val_loss: 0.2762 - val_accuracy: 0.9093\n",
      "Epoch 4/13\n",
      "412857/412857 [==============================] - 84s 203us/step - loss: 0.2407 - accuracy: 0.9189 - val_loss: 0.2443 - val_accuracy: 0.9193\n",
      "Epoch 5/13\n",
      "412857/412857 [==============================] - 85s 206us/step - loss: 0.2107 - accuracy: 0.9278 - val_loss: 0.2210 - val_accuracy: 0.9264\n",
      "Epoch 6/13\n",
      "412857/412857 [==============================] - 84s 202us/step - loss: 0.1887 - accuracy: 0.9350 - val_loss: 0.2054 - val_accuracy: 0.9315\n",
      "Epoch 7/13\n",
      "412857/412857 [==============================] - 85s 205us/step - loss: 0.1725 - accuracy: 0.9403 - val_loss: 0.1914 - val_accuracy: 0.9355\n",
      "Epoch 8/13\n",
      "412857/412857 [==============================] - 85s 206us/step - loss: 0.1587 - accuracy: 0.9449 - val_loss: 0.1839 - val_accuracy: 0.9380\n",
      "Epoch 9/13\n",
      "412857/412857 [==============================] - 83s 202us/step - loss: 0.1489 - accuracy: 0.9482 - val_loss: 0.1785 - val_accuracy: 0.9383\n",
      "Epoch 10/13\n",
      "412857/412857 [==============================] - 85s 205us/step - loss: 0.1403 - accuracy: 0.9513 - val_loss: 0.1672 - val_accuracy: 0.9449\n",
      "Epoch 11/13\n",
      "412857/412857 [==============================] - 85s 207us/step - loss: 0.1337 - accuracy: 0.9534 - val_loss: 0.1608 - val_accuracy: 0.9469\n",
      "Epoch 12/13\n",
      "412857/412857 [==============================] - 79s 192us/step - loss: 0.1275 - accuracy: 0.9553 - val_loss: 0.1703 - val_accuracy: 0.9446\n",
      "Epoch 13/13\n",
      "412857/412857 [==============================] - 78s 190us/step - loss: 0.1224 - accuracy: 0.9569 - val_loss: 0.1582 - val_accuracy: 0.9480\n"
     ]
    }
   ],
   "source": [
    "history = model.fit(x_reshaped, y_train, batch_size=128, validation_split=0.2, epochs=13)"
   ]
  },
  {
   "cell_type": "code",
   "execution_count": 15,
   "metadata": {},
   "outputs": [
    {
     "data": {
      "text/plain": [
       "dict_keys(['val_loss', 'val_accuracy', 'loss', 'accuracy'])"
      ]
     },
     "execution_count": 15,
     "metadata": {},
     "output_type": "execute_result"
    }
   ],
   "source": [
    "history.history.keys()"
   ]
  },
  {
   "cell_type": "code",
   "execution_count": 16,
   "metadata": {},
   "outputs": [
    {
     "data": {
      "image/png": "[encoded data removed]",
      "text/plain": [
       "<Figure size 432x288 with 1 Axes>"
      ]
     },
     "metadata": {
      "needs_background": "light"
     },
     "output_type": "display_data"
    }
   ],
   "source": [
    "plt.plot(history.history['loss'])\n",
    "plt.plot(history.history['val_loss'])\n",
    "plt.title('model loss')\n",
    "plt.ylabel('loss')\n",
    "plt.xlabel('epoch')\n",
    "plt.legend(['train', 'test'], loc='upper left')\n",
    "plt.show()"
   ]
  },
  {
   "cell_type": "code",
   "execution_count": 17,
   "metadata": {},
   "outputs": [
    {
     "data": {
      "image/png": "[encoded data removed]",
      "text/plain": [
       "<Figure size 432x288 with 1 Axes>"
      ]
     },
     "metadata": {
      "needs_background": "light"
     },
     "output_type": "display_data"
    }
   ],
   "source": [
    "plt.plot(history.history['accuracy'])\n",
    "plt.plot(history.history['val_accuracy'])\n",
    "plt.title('model accuracy')\n",
    "plt.ylabel('accuracy')\n",
    "plt.xlabel('epoch')\n",
    "plt.legend(['train', 'test'], loc='upper left')\n",
    "plt.show()"
   ]
  },
  {
   "cell_type": "code",
   "execution_count": 18,
   "metadata": {},
   "outputs": [
    {
     "name": "stdout",
     "output_type": "stream",
     "text": [
      "11576/11576 [==============================] - 1s 63us/step\n"
     ]
    },
    {
     "data": {
      "text/plain": [
       "(0.845077543400367, 0.8487387895584106)"
      ]
     },
     "execution_count": 18,
     "metadata": {},
     "output_type": "execute_result"
    }
   ],
   "source": [
    "score, acc = model.evaluate(x_test_reshaped, y_test, batch_size=128)\n",
    "score, acc"
   ]
  },
  {
   "cell_type": "code",
   "execution_count": 19,
   "metadata": {},
   "outputs": [],
   "source": [
    "model = Sequential()\n",
    "model.add(Conv2D(7, kernel_size=7, input_shape=(34,34,1)))\n",
    "model.add(MaxPooling2D(pool_size=(2, 2)))\n",
    "model.add(Activation('relu'))\n",
    "model.add(Conv2D(22, kernel_size=3))\n",
    "model.add(MaxPooling2D(pool_size=(2, 2)))\n",
    "model.add(Activation('relu'))\n",
    "model.add(Flatten())\n",
    "model.add(Dense(classes_num, activation='softmax'))"
   ]
  },
  {
   "cell_type": "code",
   "execution_count": 20,
   "metadata": {},
   "outputs": [],
   "source": [
    "optimazer = keras.optimizers.Adam(lr=0.0008, beta_1=0.9, beta_2=0.999, amsgrad=False)"
   ]
  },
  {
   "cell_type": "code",
   "execution_count": 21,
   "metadata": {},
   "outputs": [],
   "source": [
    "model.compile(loss='categorical_crossentropy', optimizer='adam', metrics=['accuracy'])"
   ]
  },
  {
   "cell_type": "code",
   "execution_count": 22,
   "metadata": {},
   "outputs": [
    {
     "name": "stdout",
     "output_type": "stream",
     "text": [
      "Epoch 1/14\n",
      "516072/516072 [==============================] - 94s 182us/step - loss: 0.6999 - accuracy: 0.7937\n",
      "Epoch 2/14\n",
      "516072/516072 [==============================] - 94s 182us/step - loss: 0.3533 - accuracy: 0.8845\n",
      "Epoch 3/14\n",
      "516072/516072 [==============================] - 92s 178us/step - loss: 0.2741 - accuracy: 0.9080\n",
      "Epoch 4/14\n",
      "516072/516072 [==============================] - 95s 184us/step - loss: 0.2301 - accuracy: 0.9217\n",
      "Epoch 5/14\n",
      "516072/516072 [==============================] - 95s 184us/step - loss: 0.2009 - accuracy: 0.9310\n",
      "Epoch 6/14\n",
      "516072/516072 [==============================] - 95s 184us/step - loss: 0.1808 - accuracy: 0.9379s - loss: 0.180\n",
      "Epoch 7/14\n",
      "516072/516072 [==============================] - 97s 187us/step - loss: 0.1656 - accuracy: 0.9429\n",
      "Epoch 8/14\n",
      "516072/516072 [==============================] - 93s 181us/step - loss: 0.1543 - accuracy: 0.9463s - l\n",
      "Epoch 9/14\n",
      "516072/516072 [==============================] - 97s 188us/step - loss: 0.1447 - accuracy: 0.9496s - loss: 0.1447 - accuracy\n",
      "Epoch 10/14\n",
      "516072/516072 [==============================] - 97s 188us/step - loss: 0.1375 - accuracy: 0.9516\n",
      "Epoch 11/14\n",
      "516072/516072 [==============================] - 96s 185us/step - loss: 0.1303 - accuracy: 0.9542\n",
      "Epoch 12/14\n",
      "516072/516072 [==============================] - 98s 191us/step - loss: 0.1241 - accuracy: 0.9564\n",
      "Epoch 13/14\n",
      "516072/516072 [==============================] - 98s 189us/step - loss: 0.1200 - accuracy: 0.9576\n",
      "Epoch 14/14\n",
      "516072/516072 [==============================] - 97s 188us/step - loss: 0.1154 - accuracy: 0.9594\n"
     ]
    }
   ],
   "source": [
    "history = model.fit(x_reshaped, y_train, batch_size=128, epochs=14)"
   ]
  },
  {
   "cell_type": "code",
   "execution_count": 23,
   "metadata": {},
   "outputs": [
    {
     "name": "stdout",
     "output_type": "stream",
     "text": [
      "11576/11576 [==============================] - 1s 62us/step\n"
     ]
    },
    {
     "data": {
      "text/plain": [
       "(0.916645372025128, 0.8410504460334778)"
      ]
     },
     "execution_count": 23,
     "metadata": {},
     "output_type": "execute_result"
    }
   ],
   "source": [
    "score, acc = model.evaluate(x_test_reshaped, y_test, batch_size=128)\n",
    "score, acc"
   ]
  },
  {
   "cell_type": "code",
   "execution_count": 26,
   "metadata": {},
   "outputs": [],
   "source": [
    "import pickle\n",
    "\n",
    "with open('model34bal.obj', 'wb') as f:\n",
    "    pickle.dump(model, f)"
   ]
  },
  {
   "cell_type": "code",
   "execution_count": 27,
   "metadata": {},
   "outputs": [
    {
     "name": "stdout",
     "output_type": "stream",
     "text": [
      "11576/11576 [==============================] - 1s 57us/step\n"
     ]
    },
    {
     "data": {
      "text/plain": [
       "(0.916645372025128, 0.8410504460334778)"
      ]
     },
     "execution_count": 27,
     "metadata": {},
     "output_type": "execute_result"
    }
   ],
   "source": [
    "with open('model34bal.obj', 'rb') as f:\n",
    "    saved_model = pickle.load(f)\n",
    "    score, acc = model.evaluate(x_test_reshaped, y_test, batch_size=128)\n",
    "score, acc"
   ]
  },
  {
   "cell_type": "code",
   "execution_count": null,
   "metadata": {},
   "outputs": [],
   "source": []
  }
 ],
 "metadata": {
  "kernelspec": {
   "display_name": "Python 3",
   "language": "python",
   "name": "python3"
  },
  "language_info": {
   "codemirror_mode": {
    "name": "ipython",
    "version": 3
   },
   "file_extension": ".py",
   "mimetype": "text/x-python",
   "name": "python",
   "nbconvert_exporter": "python",
   "pygments_lexer": "ipython3",
   "version": "3.7.5"
  },
  "toc": {
   "base_numbering": 1,
   "nav_menu": {},
   "number_sections": true,
   "sideBar": true,
   "skip_h1_title": false,
   "title_cell": "Table of Contents",
   "title_sidebar": "Contents",
   "toc_cell": false,
   "toc_position": {},
   "toc_section_display": true,
   "toc_window_display": false
  },
  "varInspector": {
   "cols": {
    "lenName": 16,
    "lenType": 16,
    "lenVar": 40
   },
   "kernels_config": {
    "python": {
     "delete_cmd_postfix": "",
     "delete_cmd_prefix": "del ",
     "library": "var_list.py",
     "varRefreshCmd": "print(var_dic_list())"
    },
    "r": {
     "delete_cmd_postfix": ") ",
     "delete_cmd_prefix": "rm(",
     "library": "var_list.r",
     "varRefreshCmd": "cat(var_dic_list()) "
    }
   },
   "types_to_exclude": [
    "module",
    "function",
    "builtin_function_or_method",
    "instance",
    "_Feature"
   ],
   "window_display": false
  }
 },
 "nbformat": 4,
 "nbformat_minor": 2
}
