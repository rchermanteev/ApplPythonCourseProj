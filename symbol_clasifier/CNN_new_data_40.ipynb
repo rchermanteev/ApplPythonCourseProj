{
 "cells": [
  {
   "cell_type": "markdown",
   "metadata": {},
   "source": [
    "датасет сгененрован командами:\n",
    "\n",
    "``` python extract.py -b 40 -d 2011 2012 2013 -c all -t 5 ```\n"
   ]
  },
  {
   "cell_type": "code",
   "execution_count": 1,
   "metadata": {},
   "outputs": [
    {
     "name": "stderr",
     "output_type": "stream",
     "text": [
      "Using TensorFlow backend.\n"
     ]
    }
   ],
   "source": [
    "import pickle\n",
    "import pandas as pd\n",
    "import numpy as np\n",
    "import tensorflow as tf\n",
    "from tensorflow import keras\n",
    "import matplotlib.pyplot as plt\n",
    "\n",
    "from keras.models import Sequential,Model\n",
    "from keras.layers import Dense, Input, Flatten, Conv2D, MaxPooling2D, Activation\n",
    "\n",
    "%matplotlib inline"
   ]
  },
  {
   "cell_type": "code",
   "execution_count": 2,
   "metadata": {},
   "outputs": [],
   "source": [
    "df_train = pd.DataFrame(pd.read_pickle(\"train40/train.pickle\"))\n",
    "df_test = pd.DataFrame(pd.read_pickle(\"test40/test.pickle\"))"
   ]
  },
  {
   "cell_type": "code",
   "execution_count": 3,
   "metadata": {},
   "outputs": [
    {
     "data": {
      "text/html": [
       "<div>\n",
       "<style scoped>\n",
       "    .dataframe tbody tr th:only-of-type {\n",
       "        vertical-align: middle;\n",
       "    }\n",
       "\n",
       "    .dataframe tbody tr th {\n",
       "        vertical-align: top;\n",
       "    }\n",
       "\n",
       "    .dataframe thead th {\n",
       "        text-align: right;\n",
       "    }\n",
       "</style>\n",
       "<table border=\"1\" class=\"dataframe\">\n",
       "  <thead>\n",
       "    <tr style=\"text-align: right;\">\n",
       "      <th></th>\n",
       "      <th>features</th>\n",
       "      <th>label</th>\n",
       "    </tr>\n",
       "  </thead>\n",
       "  <tbody>\n",
       "    <tr>\n",
       "      <th>0</th>\n",
       "      <td>[1, 1, 1, 1, 1, 1, 1, 1, 1, 1, 1, 1, 1, 1, 1, ...</td>\n",
       "      <td>[0, 0, 0, 0, 0, 0, 0, 0, 1, 0, 0, 0, 0, 0, 0, ...</td>\n",
       "    </tr>\n",
       "    <tr>\n",
       "      <th>1</th>\n",
       "      <td>[1, 1, 1, 1, 1, 1, 1, 1, 1, 1, 1, 1, 1, 1, 1, ...</td>\n",
       "      <td>[0, 0, 0, 0, 0, 0, 0, 0, 0, 0, 0, 0, 0, 0, 0, ...</td>\n",
       "    </tr>\n",
       "    <tr>\n",
       "      <th>2</th>\n",
       "      <td>[1, 1, 1, 1, 1, 1, 1, 1, 1, 0, 0, 0, 0, 0, 0, ...</td>\n",
       "      <td>[0, 0, 0, 0, 0, 0, 0, 0, 0, 0, 1, 0, 0, 0, 0, ...</td>\n",
       "    </tr>\n",
       "    <tr>\n",
       "      <th>3</th>\n",
       "      <td>[1, 1, 1, 1, 1, 1, 1, 0, 0, 0, 0, 0, 0, 1, 1, ...</td>\n",
       "      <td>[0, 0, 0, 0, 0, 0, 0, 0, 0, 0, 0, 0, 0, 0, 0, ...</td>\n",
       "    </tr>\n",
       "    <tr>\n",
       "      <th>4</th>\n",
       "      <td>[1, 1, 1, 1, 1, 1, 1, 1, 1, 1, 1, 1, 1, 1, 1, ...</td>\n",
       "      <td>[0, 0, 0, 0, 0, 0, 0, 0, 0, 0, 0, 0, 0, 0, 0, ...</td>\n",
       "    </tr>\n",
       "  </tbody>\n",
       "</table>\n",
       "</div>"
      ],
      "text/plain": [
       "                                            features  \\\n",
       "0  [1, 1, 1, 1, 1, 1, 1, 1, 1, 1, 1, 1, 1, 1, 1, ...   \n",
       "1  [1, 1, 1, 1, 1, 1, 1, 1, 1, 1, 1, 1, 1, 1, 1, ...   \n",
       "2  [1, 1, 1, 1, 1, 1, 1, 1, 1, 0, 0, 0, 0, 0, 0, ...   \n",
       "3  [1, 1, 1, 1, 1, 1, 1, 0, 0, 0, 0, 0, 0, 1, 1, ...   \n",
       "4  [1, 1, 1, 1, 1, 1, 1, 1, 1, 1, 1, 1, 1, 1, 1, ...   \n",
       "\n",
       "                                               label  \n",
       "0  [0, 0, 0, 0, 0, 0, 0, 0, 1, 0, 0, 0, 0, 0, 0, ...  \n",
       "1  [0, 0, 0, 0, 0, 0, 0, 0, 0, 0, 0, 0, 0, 0, 0, ...  \n",
       "2  [0, 0, 0, 0, 0, 0, 0, 0, 0, 0, 1, 0, 0, 0, 0, ...  \n",
       "3  [0, 0, 0, 0, 0, 0, 0, 0, 0, 0, 0, 0, 0, 0, 0, ...  \n",
       "4  [0, 0, 0, 0, 0, 0, 0, 0, 0, 0, 0, 0, 0, 0, 0, ...  "
      ]
     },
     "execution_count": 3,
     "metadata": {},
     "output_type": "execute_result"
    }
   ],
   "source": [
    "df_train.head()"
   ]
  },
  {
   "cell_type": "code",
   "execution_count": 4,
   "metadata": {},
   "outputs": [],
   "source": [
    "def features_to_matrix(dataset):\n",
    "    pixs = dataset['features'].apply(pd.Series)\n",
    "    pixs = pixs.rename(columns = lambda x: 'pix_' + str(x))\n",
    "    return pixs"
   ]
  },
  {
   "cell_type": "code",
   "execution_count": 5,
   "metadata": {},
   "outputs": [
    {
     "data": {
      "text/plain": [
       "(91301, 1600)"
      ]
     },
     "execution_count": 5,
     "metadata": {},
     "output_type": "execute_result"
    }
   ],
   "source": [
    "x_train = features_to_matrix(df_train[:70000])\n",
    "x_test = features_to_matrix(df_test)\n",
    "x_train = pd.concat([x_train, features_to_matrix(df_train[70000:])], axis=0)\n",
    "x_train.shape"
   ]
  },
  {
   "cell_type": "code",
   "execution_count": 6,
   "metadata": {},
   "outputs": [],
   "source": [
    "y_test = df_test['label']\n",
    "y_test = y_test.apply(pd.Series)\n",
    "y_test = y_test.rename(columns = lambda x: 'class_' + str(x))"
   ]
  },
  {
   "cell_type": "code",
   "execution_count": 7,
   "metadata": {},
   "outputs": [
    {
     "data": {
      "text/plain": [
       "(91301, 101)"
      ]
     },
     "execution_count": 7,
     "metadata": {},
     "output_type": "execute_result"
    }
   ],
   "source": [
    "y_train = df_train['label']\n",
    "y_train = y_train.apply(pd.Series)\n",
    "y_train = y_train.rename(columns = lambda x: 'class_' + str(x))\n",
    "y_train.shape"
   ]
  },
  {
   "cell_type": "code",
   "execution_count": 8,
   "metadata": {},
   "outputs": [],
   "source": [
    "x_reshaped = x_train.values.reshape((x_train.shape[0], 40, 40, 1))\n",
    "x_test_reshaped = x_test.values.reshape(x_test.shape[0], 40, 40, 1)"
   ]
  },
  {
   "cell_type": "code",
   "execution_count": 9,
   "metadata": {},
   "outputs": [
    {
     "data": {
      "text/plain": [
       "101"
      ]
     },
     "execution_count": 9,
     "metadata": {},
     "output_type": "execute_result"
    }
   ],
   "source": [
    "hidden_size = 50\n",
    "classes_num = y_train.shape[1]\n",
    "classes_num"
   ]
  },
  {
   "cell_type": "code",
   "execution_count": 57,
   "metadata": {},
   "outputs": [],
   "source": [
    "model = Sequential()\n",
    "model.add(Conv2D(7, kernel_size=9, input_shape=(40, 40, 1)))\n",
    "model.add(MaxPooling2D(pool_size=(2, 2)))\n",
    "model.add(Activation('relu'))\n",
    "model.add(Conv2D(30, kernel_size=3))\n",
    "model.add(MaxPooling2D(pool_size=(2, 2)))\n",
    "model.add(Activation('relu'))\n",
    "model.add(Flatten())\n",
    "model.add(Dense(classes_num, activation='softmax'))"
   ]
  },
  {
   "cell_type": "code",
   "execution_count": 58,
   "metadata": {},
   "outputs": [],
   "source": [
    "optimazer = keras.optimizers.Adam(lr=0.0008, beta_1=0.9, beta_2=0.999, amsgrad=False)"
   ]
  },
  {
   "cell_type": "code",
   "execution_count": 59,
   "metadata": {},
   "outputs": [],
   "source": [
    "model.compile(loss='categorical_crossentropy', optimizer='adam', metrics=['accuracy'])"
   ]
  },
  {
   "cell_type": "code",
   "execution_count": 60,
   "metadata": {},
   "outputs": [
    {
     "name": "stdout",
     "output_type": "stream",
     "text": [
      "Train on 73040 samples, validate on 18261 samples\n",
      "Epoch 1/14\n",
      "73040/73040 [==============================] - 24s 335us/step - loss: 1.0324 - accuracy: 0.7381 - val_loss: 0.4700 - val_accuracy: 0.8697\n",
      "Epoch 2/14\n",
      "73040/73040 [==============================] - 24s 335us/step - loss: 0.4995 - accuracy: 0.8602 - val_loss: 0.4003 - val_accuracy: 0.8794\n",
      "Epoch 3/14\n",
      "73040/73040 [==============================] - 24s 325us/step - loss: 0.4164 - accuracy: 0.8799 - val_loss: 0.3281 - val_accuracy: 0.9102\n",
      "Epoch 4/14\n",
      "73040/73040 [==============================] - 24s 324us/step - loss: 0.3652 - accuracy: 0.8926 - val_loss: 0.2888 - val_accuracy: 0.9169\n",
      "Epoch 5/14\n",
      "73040/73040 [==============================] - 24s 324us/step - loss: 0.3265 - accuracy: 0.9016 - val_loss: 0.2606 - val_accuracy: 0.9243\n",
      "Epoch 6/14\n",
      "73040/73040 [==============================] - 24s 322us/step - loss: 0.2969 - accuracy: 0.9094 - val_loss: 0.2711 - val_accuracy: 0.9240\n",
      "Epoch 7/14\n",
      "73040/73040 [==============================] - 24s 323us/step - loss: 0.2721 - accuracy: 0.9164 - val_loss: 0.2459 - val_accuracy: 0.9306\n",
      "Epoch 8/14\n",
      "73040/73040 [==============================] - 24s 325us/step - loss: 0.2509 - accuracy: 0.9219 - val_loss: 0.2485 - val_accuracy: 0.9274\n",
      "Epoch 9/14\n",
      "73040/73040 [==============================] - 24s 325us/step - loss: 0.2331 - accuracy: 0.9270 - val_loss: 0.2231 - val_accuracy: 0.9363\n",
      "Epoch 10/14\n",
      "73040/73040 [==============================] - 24s 329us/step - loss: 0.2152 - accuracy: 0.9320 - val_loss: 0.2159 - val_accuracy: 0.9403\n",
      "Epoch 11/14\n",
      "73040/73040 [==============================] - 24s 325us/step - loss: 0.2029 - accuracy: 0.9358 - val_loss: 0.2071 - val_accuracy: 0.9422\n",
      "Epoch 12/14\n",
      "73040/73040 [==============================] - 24s 326us/step - loss: 0.1910 - accuracy: 0.9390 - val_loss: 0.2267 - val_accuracy: 0.9388\n",
      "Epoch 13/14\n",
      "73040/73040 [==============================] - 24s 327us/step - loss: 0.1797 - accuracy: 0.9423 - val_loss: 0.2013 - val_accuracy: 0.9460\n",
      "Epoch 14/14\n",
      "73040/73040 [==============================] - 24s 328us/step - loss: 0.1690 - accuracy: 0.9449 - val_loss: 0.2171 - val_accuracy: 0.9422\n",
      "CPU times: user 16min 47s, sys: 8.09 s, total: 16min 55s\n",
      "Wall time: 5min 34s\n"
     ]
    }
   ],
   "source": [
    "%%time\n",
    "history = model.fit(x_reshaped, y_train, batch_size=128, validation_split=0.2, epochs=14)"
   ]
  },
  {
   "cell_type": "code",
   "execution_count": 61,
   "metadata": {},
   "outputs": [
    {
     "data": {
      "text/plain": [
       "dict_keys(['val_loss', 'val_accuracy', 'loss', 'accuracy'])"
      ]
     },
     "execution_count": 61,
     "metadata": {},
     "output_type": "execute_result"
    }
   ],
   "source": [
    "history.history.keys()"
   ]
  },
  {
   "cell_type": "code",
   "execution_count": 62,
   "metadata": {},
   "outputs": [
    {
     "data": {
      "image/png": "[encoded data removed]",
      "text/plain": [
       "<Figure size 432x288 with 1 Axes>"
      ]
     },
     "metadata": {
      "needs_background": "light"
     },
     "output_type": "display_data"
    }
   ],
   "source": [
    "plt.plot(history.history['loss'])\n",
    "plt.plot(history.history['val_loss'])\n",
    "plt.title('model loss')\n",
    "plt.ylabel('loss')\n",
    "plt.xlabel('epoch')\n",
    "plt.legend(['train', 'test'], loc='upper left')\n",
    "plt.show()"
   ]
  },
  {
   "cell_type": "code",
   "execution_count": 63,
   "metadata": {},
   "outputs": [
    {
     "data": {
      "image/png": "[encoded data removed]",
      "text/plain": [
       "<Figure size 432x288 with 1 Axes>"
      ]
     },
     "metadata": {
      "needs_background": "light"
     },
     "output_type": "display_data"
    }
   ],
   "source": [
    "plt.plot(history.history['accuracy'])\n",
    "plt.plot(history.history['val_accuracy'])\n",
    "plt.title('model accuracy')\n",
    "plt.ylabel('accuracy')\n",
    "plt.xlabel('epoch')\n",
    "plt.legend(['train', 'test'], loc='upper left')\n",
    "plt.show()"
   ]
  },
  {
   "cell_type": "code",
   "execution_count": 64,
   "metadata": {},
   "outputs": [
    {
     "name": "stdout",
     "output_type": "stream",
     "text": [
      "11164/11164 [==============================] - 1s 93us/step\n"
     ]
    },
    {
     "data": {
      "text/plain": [
       "(0.563698336460692, 0.8654603958129883)"
      ]
     },
     "execution_count": 64,
     "metadata": {},
     "output_type": "execute_result"
    }
   ],
   "source": [
    "score, acc = model.evaluate(x_test_reshaped, y_test, batch_size=128)\n",
    "score, acc"
   ]
  },
  {
   "cell_type": "code",
   "execution_count": 65,
   "metadata": {},
   "outputs": [],
   "source": [
    "model = Sequential()\n",
    "model.add(Conv2D(7, kernel_size=9, input_shape=(40, 40, 1)))\n",
    "model.add(MaxPooling2D(pool_size=(2, 2)))\n",
    "model.add(Activation('relu'))\n",
    "model.add(Conv2D(30, kernel_size=3))\n",
    "model.add(MaxPooling2D(pool_size=(2, 2)))\n",
    "model.add(Activation('relu'))\n",
    "model.add(Flatten())\n",
    "model.add(Dense(classes_num, activation='softmax'))"
   ]
  },
  {
   "cell_type": "code",
   "execution_count": 66,
   "metadata": {},
   "outputs": [],
   "source": [
    "optimazer = keras.optimizers.Adam(lr=0.0008, beta_1=0.9, beta_2=0.999, amsgrad=False)"
   ]
  },
  {
   "cell_type": "code",
   "execution_count": 67,
   "metadata": {},
   "outputs": [],
   "source": [
    "model.compile(loss='categorical_crossentropy', optimizer='adam', metrics=['accuracy'])"
   ]
  },
  {
   "cell_type": "code",
   "execution_count": 68,
   "metadata": {},
   "outputs": [
    {
     "name": "stdout",
     "output_type": "stream",
     "text": [
      "Epoch 1/14\n",
      "91301/91301 [==============================] - 28s 306us/step - loss: 0.9039 - accuracy: 0.7685\n",
      "Epoch 2/14\n",
      "91301/91301 [==============================] - 34s 374us/step - loss: 0.4198 - accuracy: 0.8805\n",
      "Epoch 3/14\n",
      "91301/91301 [==============================] - 32s 355us/step - loss: 0.3446 - accuracy: 0.8986\n",
      "Epoch 4/14\n",
      "91301/91301 [==============================] - 29s 315us/step - loss: 0.3014 - accuracy: 0.9099\n",
      "Epoch 5/14\n",
      "91301/91301 [==============================] - 35s 383us/step - loss: 0.2700 - accuracy: 0.9184\n",
      "Epoch 6/14\n",
      "91301/91301 [==============================] - 35s 380us/step - loss: 0.2458 - accuracy: 0.9248\n",
      "Epoch 7/14\n",
      "91301/91301 [==============================] - 35s 380us/step - loss: 0.2245 - accuracy: 0.9301\n",
      "Epoch 8/14\n",
      "91301/91301 [==============================] - 34s 369us/step - loss: 0.2086 - accuracy: 0.9343\n",
      "Epoch 9/14\n",
      "91301/91301 [==============================] - 28s 305us/step - loss: 0.1932 - accuracy: 0.9381\n",
      "Epoch 10/14\n",
      "91301/91301 [==============================] - 28s 310us/step - loss: 0.1825 - accuracy: 0.9414\n",
      "Epoch 11/14\n",
      "91301/91301 [==============================] - 29s 315us/step - loss: 0.1705 - accuracy: 0.9445\n",
      "Epoch 12/14\n",
      "91301/91301 [==============================] - 28s 310us/step - loss: 0.1598 - accuracy: 0.9480\n",
      "Epoch 13/14\n",
      "91301/91301 [==============================] - 28s 308us/step - loss: 0.1518 - accuracy: 0.9500\n",
      "Epoch 14/14\n",
      "91301/91301 [==============================] - 27s 296us/step - loss: 0.1436 - accuracy: 0.9532\n"
     ]
    }
   ],
   "source": [
    "history = model.fit(x_reshaped, y_train, batch_size=128, epochs=14)"
   ]
  },
  {
   "cell_type": "code",
   "execution_count": 69,
   "metadata": {},
   "outputs": [
    {
     "name": "stdout",
     "output_type": "stream",
     "text": [
      "11164/11164 [==============================] - 1s 92us/step\n"
     ]
    },
    {
     "data": {
      "text/plain": [
       "(0.5673573176543032, 0.87226802110672)"
      ]
     },
     "execution_count": 69,
     "metadata": {},
     "output_type": "execute_result"
    }
   ],
   "source": [
    "score, acc = model.evaluate(x_test_reshaped, y_test, batch_size=128)\n",
    "score, acc"
   ]
  },
  {
   "cell_type": "code",
   "execution_count": 70,
   "metadata": {},
   "outputs": [],
   "source": [
    "import pickle\n",
    "\n",
    "with open('model40.obj', 'wb') as f:\n",
    "    pickle.dump(model, f)"
   ]
  },
  {
   "cell_type": "code",
   "execution_count": 72,
   "metadata": {},
   "outputs": [
    {
     "name": "stdout",
     "output_type": "stream",
     "text": [
      "11164/11164 [==============================] - 1s 95us/step\n"
     ]
    },
    {
     "data": {
      "text/plain": [
       "(0.5673573176543032, 0.87226802110672)"
      ]
     },
     "execution_count": 72,
     "metadata": {},
     "output_type": "execute_result"
    }
   ],
   "source": [
    "with open('model40.obj', 'rb') as f:\n",
    "    saved_model = pickle.load(f)\n",
    "    score, acc = model.evaluate(x_test_reshaped, y_test, batch_size=128)\n",
    "score, acc"
   ]
  },
  {
   "cell_type": "code",
   "execution_count": null,
   "metadata": {},
   "outputs": [],
   "source": []
  }
 ],
 "metadata": {
  "kernelspec": {
   "display_name": "Python 3",
   "language": "python",
   "name": "python3"
  },
  "language_info": {
   "codemirror_mode": {
    "name": "ipython",
    "version": 3
   },
   "file_extension": ".py",
   "mimetype": "text/x-python",
   "name": "python",
   "nbconvert_exporter": "python",
   "pygments_lexer": "ipython3",
   "version": "3.7.5"
  },
  "toc": {
   "base_numbering": 1,
   "nav_menu": {},
   "number_sections": true,
   "sideBar": true,
   "skip_h1_title": false,
   "title_cell": "Table of Contents",
   "title_sidebar": "Contents",
   "toc_cell": false,
   "toc_position": {},
   "toc_section_display": true,
   "toc_window_display": false
  },
  "varInspector": {
   "cols": {
    "lenName": 16,
    "lenType": 16,
    "lenVar": 40
   },
   "kernels_config": {
    "python": {
     "delete_cmd_postfix": "",
     "delete_cmd_prefix": "del ",
     "library": "var_list.py",
     "varRefreshCmd": "print(var_dic_list())"
    },
    "r": {
     "delete_cmd_postfix": ") ",
     "delete_cmd_prefix": "rm(",
     "library": "var_list.r",
     "varRefreshCmd": "cat(var_dic_list()) "
    }
   },
   "types_to_exclude": [
    "module",
    "function",
    "builtin_function_or_method",
    "instance",
    "_Feature"
   ],
   "window_display": false
  }
 },
 "nbformat": 4,
 "nbformat_minor": 2
}
