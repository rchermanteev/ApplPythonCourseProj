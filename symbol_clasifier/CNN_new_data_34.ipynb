{
 "cells": [
  {
   "cell_type": "markdown",
   "metadata": {},
   "source": [
    "датасет сгененрован командами:\n",
    "\n",
    "``` python extract.py -b 34 -d 2011 2012 2013 -c all -t 5 ```\n"
   ]
  },
  {
   "cell_type": "code",
   "execution_count": 205,
   "metadata": {},
   "outputs": [],
   "source": [
    "import pickle\n",
    "import pandas as pd\n",
    "import numpy as np\n",
    "import tensorflow as tf\n",
    "from tensorflow import keras\n",
    "import matplotlib.pyplot as plt\n",
    "\n",
    "from keras.models import Sequential,Model\n",
    "from keras.layers import Dense, Input, Flatten, Conv2D, MaxPooling2D, Activation\n",
    "\n",
    "%matplotlib inline"
   ]
  },
  {
   "cell_type": "code",
   "execution_count": 206,
   "metadata": {},
   "outputs": [],
   "source": [
    "df_train = pd.DataFrame(pd.read_pickle(\"train34/train.pickle\"))\n",
    "df_test = pd.DataFrame(pd.read_pickle(\"test34/test.pickle\"))"
   ]
  },
  {
   "cell_type": "code",
   "execution_count": 207,
   "metadata": {},
   "outputs": [
    {
     "data": {
      "text/html": [
       "<div>\n",
       "<style scoped>\n",
       "    .dataframe tbody tr th:only-of-type {\n",
       "        vertical-align: middle;\n",
       "    }\n",
       "\n",
       "    .dataframe tbody tr th {\n",
       "        vertical-align: top;\n",
       "    }\n",
       "\n",
       "    .dataframe thead th {\n",
       "        text-align: right;\n",
       "    }\n",
       "</style>\n",
       "<table border=\"1\" class=\"dataframe\">\n",
       "  <thead>\n",
       "    <tr style=\"text-align: right;\">\n",
       "      <th></th>\n",
       "      <th>features</th>\n",
       "      <th>label</th>\n",
       "    </tr>\n",
       "  </thead>\n",
       "  <tbody>\n",
       "    <tr>\n",
       "      <th>0</th>\n",
       "      <td>[1, 1, 1, 1, 1, 1, 1, 1, 1, 1, 1, 1, 1, 1, 1, ...</td>\n",
       "      <td>[0, 0, 0, 0, 0, 0, 0, 0, 1, 0, 0, 0, 0, 0, 0, ...</td>\n",
       "    </tr>\n",
       "    <tr>\n",
       "      <th>1</th>\n",
       "      <td>[1, 1, 1, 1, 1, 1, 1, 1, 1, 1, 1, 1, 1, 1, 1, ...</td>\n",
       "      <td>[0, 0, 0, 0, 0, 0, 0, 0, 0, 0, 0, 0, 0, 0, 0, ...</td>\n",
       "    </tr>\n",
       "    <tr>\n",
       "      <th>2</th>\n",
       "      <td>[1, 1, 1, 1, 1, 1, 1, 0, 0, 0, 0, 0, 0, 0, 0, ...</td>\n",
       "      <td>[0, 0, 0, 0, 0, 0, 0, 0, 0, 0, 1, 0, 0, 0, 0, ...</td>\n",
       "    </tr>\n",
       "    <tr>\n",
       "      <th>3</th>\n",
       "      <td>[1, 1, 1, 1, 1, 1, 0, 0, 0, 0, 0, 1, 1, 1, 1, ...</td>\n",
       "      <td>[0, 0, 0, 0, 0, 0, 0, 0, 0, 0, 0, 0, 0, 0, 0, ...</td>\n",
       "    </tr>\n",
       "    <tr>\n",
       "      <th>4</th>\n",
       "      <td>[1, 1, 1, 1, 1, 1, 1, 1, 1, 1, 1, 1, 1, 1, 1, ...</td>\n",
       "      <td>[0, 0, 0, 0, 0, 0, 0, 0, 0, 0, 0, 0, 0, 0, 0, ...</td>\n",
       "    </tr>\n",
       "  </tbody>\n",
       "</table>\n",
       "</div>"
      ],
      "text/plain": [
       "                                            features  \\\n",
       "0  [1, 1, 1, 1, 1, 1, 1, 1, 1, 1, 1, 1, 1, 1, 1, ...   \n",
       "1  [1, 1, 1, 1, 1, 1, 1, 1, 1, 1, 1, 1, 1, 1, 1, ...   \n",
       "2  [1, 1, 1, 1, 1, 1, 1, 0, 0, 0, 0, 0, 0, 0, 0, ...   \n",
       "3  [1, 1, 1, 1, 1, 1, 0, 0, 0, 0, 0, 1, 1, 1, 1, ...   \n",
       "4  [1, 1, 1, 1, 1, 1, 1, 1, 1, 1, 1, 1, 1, 1, 1, ...   \n",
       "\n",
       "                                               label  \n",
       "0  [0, 0, 0, 0, 0, 0, 0, 0, 1, 0, 0, 0, 0, 0, 0, ...  \n",
       "1  [0, 0, 0, 0, 0, 0, 0, 0, 0, 0, 0, 0, 0, 0, 0, ...  \n",
       "2  [0, 0, 0, 0, 0, 0, 0, 0, 0, 0, 1, 0, 0, 0, 0, ...  \n",
       "3  [0, 0, 0, 0, 0, 0, 0, 0, 0, 0, 0, 0, 0, 0, 0, ...  \n",
       "4  [0, 0, 0, 0, 0, 0, 0, 0, 0, 0, 0, 0, 0, 0, 0, ...  "
      ]
     },
     "execution_count": 207,
     "metadata": {},
     "output_type": "execute_result"
    }
   ],
   "source": [
    "df_train.head()"
   ]
  },
  {
   "cell_type": "code",
   "execution_count": 208,
   "metadata": {},
   "outputs": [],
   "source": [
    "def features_to_matrix(dataset):\n",
    "    pixs = dataset['features'].apply(pd.Series)\n",
    "    pixs = pixs.rename(columns = lambda x: 'pix_' + str(x))\n",
    "    return pixs"
   ]
  },
  {
   "cell_type": "code",
   "execution_count": 209,
   "metadata": {},
   "outputs": [
    {
     "data": {
      "text/plain": [
       "(94145, 1156)"
      ]
     },
     "execution_count": 209,
     "metadata": {},
     "output_type": "execute_result"
    }
   ],
   "source": [
    "x_train = features_to_matrix(df_train[:70000])\n",
    "x_test = features_to_matrix(df_test)\n",
    "x_train = pd.concat([x_train, features_to_matrix(df_train[70000:])], axis=0)\n",
    "x_train.shape"
   ]
  },
  {
   "cell_type": "code",
   "execution_count": 210,
   "metadata": {},
   "outputs": [],
   "source": [
    "y_test = df_test['label']\n",
    "y_test = y_test.apply(pd.Series)\n",
    "y_test = y_test.rename(columns = lambda x: 'class_' + str(x))"
   ]
  },
  {
   "cell_type": "code",
   "execution_count": 211,
   "metadata": {},
   "outputs": [
    {
     "data": {
      "text/plain": [
       "(94145, 101)"
      ]
     },
     "execution_count": 211,
     "metadata": {},
     "output_type": "execute_result"
    }
   ],
   "source": [
    "y_train = df_train['label']\n",
    "y_train = y_train.apply(pd.Series)\n",
    "y_train = y_train.rename(columns = lambda x: 'class_' + str(x))\n",
    "y_train.shape"
   ]
  },
  {
   "cell_type": "code",
   "execution_count": 212,
   "metadata": {},
   "outputs": [],
   "source": [
    "x_reshaped = x_train.values.reshape((x_train.shape[0], 34, 34, 1))\n",
    "x_test_reshaped = x_test.values.reshape(x_test.shape[0], 34, 34, 1)"
   ]
  },
  {
   "cell_type": "code",
   "execution_count": 213,
   "metadata": {},
   "outputs": [
    {
     "data": {
      "text/plain": [
       "101"
      ]
     },
     "execution_count": 213,
     "metadata": {},
     "output_type": "execute_result"
    }
   ],
   "source": [
    "hidden_size = 50\n",
    "classes_num = y_train.shape[1]\n",
    "classes_num"
   ]
  },
  {
   "cell_type": "code",
   "execution_count": 214,
   "metadata": {},
   "outputs": [],
   "source": [
    "model = Sequential()\n",
    "model.add(Conv2D(7, kernel_size=7, input_shape=(34,34,1)))\n",
    "model.add(MaxPooling2D(pool_size=(2, 2)))\n",
    "model.add(Activation('relu'))\n",
    "model.add(Conv2D(22, kernel_size=3))\n",
    "model.add(MaxPooling2D(pool_size=(2, 2)))\n",
    "model.add(Activation('relu'))\n",
    "model.add(Flatten())\n",
    "model.add(Dense(classes_num, activation='softmax'))"
   ]
  },
  {
   "cell_type": "code",
   "execution_count": 215,
   "metadata": {},
   "outputs": [],
   "source": [
    "optimazer = keras.optimizers.Adam(lr=0.0008, beta_1=0.9, beta_2=0.999, amsgrad=False)"
   ]
  },
  {
   "cell_type": "code",
   "execution_count": 216,
   "metadata": {},
   "outputs": [],
   "source": [
    "model.compile(loss='categorical_crossentropy', optimizer='adam', metrics=['accuracy'])"
   ]
  },
  {
   "cell_type": "code",
   "execution_count": 217,
   "metadata": {},
   "outputs": [
    {
     "name": "stdout",
     "output_type": "stream",
     "text": [
      "Train on 75316 samples, validate on 18829 samples\n",
      "Epoch 1/13\n",
      "75316/75316 [==============================] - 19s 258us/step - loss: 1.1690 - accuracy: 0.7081 - val_loss: 0.5659 - val_accuracy: 0.8400\n",
      "Epoch 2/13\n",
      "75316/75316 [==============================] - 16s 212us/step - loss: 0.5512 - accuracy: 0.8458 - val_loss: 0.4541 - val_accuracy: 0.8682\n",
      "Epoch 3/13\n",
      "75316/75316 [==============================] - 15s 204us/step - loss: 0.4646 - accuracy: 0.8674 - val_loss: 0.3782 - val_accuracy: 0.8925\n",
      "Epoch 4/13\n",
      "75316/75316 [==============================] - 15s 206us/step - loss: 0.4119 - accuracy: 0.8819 - val_loss: 0.3441 - val_accuracy: 0.8936\n",
      "Epoch 5/13\n",
      "75316/75316 [==============================] - 15s 200us/step - loss: 0.3782 - accuracy: 0.8887 - val_loss: 0.3481 - val_accuracy: 0.8991\n",
      "Epoch 6/13\n",
      "75316/75316 [==============================] - 15s 194us/step - loss: 0.3524 - accuracy: 0.8961 - val_loss: 0.3027 - val_accuracy: 0.9127\n",
      "Epoch 7/13\n",
      "75316/75316 [==============================] - 15s 195us/step - loss: 0.3294 - accuracy: 0.9007 - val_loss: 0.2819 - val_accuracy: 0.9181\n",
      "Epoch 8/13\n",
      "75316/75316 [==============================] - 15s 196us/step - loss: 0.3130 - accuracy: 0.9054 - val_loss: 0.2910 - val_accuracy: 0.9158\n",
      "Epoch 9/13\n",
      "75316/75316 [==============================] - 15s 195us/step - loss: 0.2963 - accuracy: 0.9097 - val_loss: 0.2671 - val_accuracy: 0.9210\n",
      "Epoch 10/13\n",
      "75316/75316 [==============================] - 15s 194us/step - loss: 0.2801 - accuracy: 0.9147 - val_loss: 0.2569 - val_accuracy: 0.9269\n",
      "Epoch 11/13\n",
      "75316/75316 [==============================] - 15s 195us/step - loss: 0.2687 - accuracy: 0.9167 - val_loss: 0.2547 - val_accuracy: 0.9261\n",
      "Epoch 12/13\n",
      "75316/75316 [==============================] - 15s 196us/step - loss: 0.2557 - accuracy: 0.9211 - val_loss: 0.2481 - val_accuracy: 0.9299\n",
      "Epoch 13/13\n",
      "75316/75316 [==============================] - 15s 195us/step - loss: 0.2443 - accuracy: 0.9226 - val_loss: 0.2532 - val_accuracy: 0.9311\n"
     ]
    }
   ],
   "source": [
    "history = model.fit(x_reshaped, y_train, batch_size=128, validation_split=0.2, epochs=13)"
   ]
  },
  {
   "cell_type": "code",
   "execution_count": 218,
   "metadata": {},
   "outputs": [
    {
     "data": {
      "text/plain": [
       "dict_keys(['val_loss', 'val_accuracy', 'loss', 'accuracy'])"
      ]
     },
     "execution_count": 218,
     "metadata": {},
     "output_type": "execute_result"
    }
   ],
   "source": [
    "history.history.keys()"
   ]
  },
  {
   "cell_type": "code",
   "execution_count": 219,
   "metadata": {},
   "outputs": [
    {
     "data": {
      "image/png": "[encoded data removed]",
      "text/plain": [
       "<Figure size 432x288 with 1 Axes>"
      ]
     },
     "metadata": {
      "needs_background": "light"
     },
     "output_type": "display_data"
    }
   ],
   "source": [
    "plt.plot(history.history['loss'])\n",
    "plt.plot(history.history['val_loss'])\n",
    "plt.title('model loss')\n",
    "plt.ylabel('loss')\n",
    "plt.xlabel('epoch')\n",
    "plt.legend(['train', 'test'], loc='upper left')\n",
    "plt.show()"
   ]
  },
  {
   "cell_type": "code",
   "execution_count": 220,
   "metadata": {},
   "outputs": [
    {
     "data": {
      "image/png": "[encoded data removed]",
      "text/plain": [
       "<Figure size 432x288 with 1 Axes>"
      ]
     },
     "metadata": {
      "needs_background": "light"
     },
     "output_type": "display_data"
    }
   ],
   "source": [
    "plt.plot(history.history['accuracy'])\n",
    "plt.plot(history.history['val_accuracy'])\n",
    "plt.title('model accuracy')\n",
    "plt.ylabel('accuracy')\n",
    "plt.xlabel('epoch')\n",
    "plt.legend(['train', 'test'], loc='upper left')\n",
    "plt.show()"
   ]
  },
  {
   "cell_type": "code",
   "execution_count": 221,
   "metadata": {},
   "outputs": [
    {
     "name": "stdout",
     "output_type": "stream",
     "text": [
      "11576/11576 [==============================] - 1s 60us/step\n"
     ]
    },
    {
     "data": {
      "text/plain": [
       "(0.5433870896377807, 0.8616966009140015)"
      ]
     },
     "execution_count": 221,
     "metadata": {},
     "output_type": "execute_result"
    }
   ],
   "source": [
    "score, acc = model.evaluate(x_test_reshaped, y_test, batch_size=128)\n",
    "score, acc"
   ]
  },
  {
   "cell_type": "code",
   "execution_count": 222,
   "metadata": {},
   "outputs": [],
   "source": [
    "model = Sequential()\n",
    "model.add(Conv2D(7, kernel_size=7, input_shape=(34,34,1)))\n",
    "model.add(MaxPooling2D(pool_size=(2, 2)))\n",
    "model.add(Activation('relu'))\n",
    "model.add(Conv2D(22, kernel_size=3))\n",
    "model.add(MaxPooling2D(pool_size=(2, 2)))\n",
    "model.add(Activation('relu'))\n",
    "model.add(Flatten())\n",
    "model.add(Dense(classes_num, activation='softmax'))"
   ]
  },
  {
   "cell_type": "code",
   "execution_count": 223,
   "metadata": {},
   "outputs": [],
   "source": [
    "optimazer = keras.optimizers.Adam(lr=0.0008, beta_1=0.9, beta_2=0.999, amsgrad=False)"
   ]
  },
  {
   "cell_type": "code",
   "execution_count": 224,
   "metadata": {},
   "outputs": [],
   "source": [
    "model.compile(loss='categorical_crossentropy', optimizer='adam', metrics=['accuracy'])"
   ]
  },
  {
   "cell_type": "code",
   "execution_count": 225,
   "metadata": {},
   "outputs": [
    {
     "name": "stdout",
     "output_type": "stream",
     "text": [
      "Epoch 1/14\n",
      "94145/94145 [==============================] - 17s 181us/step - loss: 0.9908 - accuracy: 0.7504\n",
      "Epoch 2/14\n",
      "94145/94145 [==============================] - 17s 180us/step - loss: 0.5014 - accuracy: 0.8590\n",
      "Epoch 3/14\n",
      "94145/94145 [==============================] - 17s 177us/step - loss: 0.4264 - accuracy: 0.8791s - los\n",
      "Epoch 4/14\n",
      "94145/94145 [==============================] - 17s 178us/step - loss: 0.3836 - accuracy: 0.8879\n",
      "Epoch 5/14\n",
      "94145/94145 [==============================] - 17s 178us/step - loss: 0.3521 - accuracy: 0.8961s - loss: 0.3527 - ac\n",
      "Epoch 6/14\n",
      "94145/94145 [==============================] - 17s 178us/step - loss: 0.3254 - accuracy: 0.9027\n",
      "Epoch 7/14\n",
      "94145/94145 [==============================] - 17s 179us/step - loss: 0.3059 - accuracy: 0.9082\n",
      "Epoch 8/14\n",
      "94145/94145 [==============================] - 17s 178us/step - loss: 0.2887 - accuracy: 0.9127\n",
      "Epoch 9/14\n",
      "94145/94145 [==============================] - 17s 178us/step - loss: 0.2728 - accuracy: 0.9165\n",
      "Epoch 10/14\n",
      "94145/94145 [==============================] - 17s 178us/step - loss: 0.2586 - accuracy: 0.9203\n",
      "Epoch 11/14\n",
      "94145/94145 [==============================] - 17s 178us/step - loss: 0.2459 - accuracy: 0.9236\n",
      "Epoch 12/14\n",
      "94145/94145 [==============================] - 17s 178us/step - loss: 0.2348 - accuracy: 0.9268s - loss: 0.2338 - accu - ETA: \n",
      "Epoch 13/14\n",
      "94145/94145 [==============================] - 17s 178us/step - loss: 0.2262 - accuracy: 0.9289\n",
      "Epoch 14/14\n",
      "94145/94145 [==============================] - 17s 179us/step - loss: 0.2180 - accuracy: 0.9303\n"
     ]
    }
   ],
   "source": [
    "history = model.fit(x_reshaped, y_train, batch_size=128, epochs=14)"
   ]
  },
  {
   "cell_type": "code",
   "execution_count": 226,
   "metadata": {},
   "outputs": [
    {
     "name": "stdout",
     "output_type": "stream",
     "text": [
      "11576/11576 [==============================] - 1s 61us/step\n"
     ]
    },
    {
     "data": {
      "text/plain": [
       "(0.5332699886213604, 0.8645473122596741)"
      ]
     },
     "execution_count": 226,
     "metadata": {},
     "output_type": "execute_result"
    }
   ],
   "source": [
    "score, acc = model.evaluate(x_test_reshaped, y_test, batch_size=128)\n",
    "score, acc"
   ]
  },
  {
   "cell_type": "code",
   "execution_count": 227,
   "metadata": {},
   "outputs": [],
   "source": [
    "import pickle\n",
    "\n",
    "with open('model34.obj', 'wb') as f:\n",
    "    pickle.dump(model, f)"
   ]
  },
  {
   "cell_type": "code",
   "execution_count": 230,
   "metadata": {},
   "outputs": [
    {
     "name": "stdout",
     "output_type": "stream",
     "text": [
      "11576/11576 [==============================] - 1s 58us/step\n"
     ]
    },
    {
     "data": {
      "text/plain": [
       "(0.5332699886213604, 0.8645473122596741)"
      ]
     },
     "execution_count": 230,
     "metadata": {},
     "output_type": "execute_result"
    }
   ],
   "source": [
    "with open('model34.obj', 'rb') as f:\n",
    "    saved_model = pickle.load(f)\n",
    "    score, acc = model.evaluate(x_test_reshaped, y_test, batch_size=128)\n",
    "score, acc"
   ]
  },
  {
   "cell_type": "code",
   "execution_count": null,
   "metadata": {},
   "outputs": [],
   "source": []
  }
 ],
 "metadata": {
  "kernelspec": {
   "display_name": "Python 3",
   "language": "python",
   "name": "python3"
  },
  "language_info": {
   "codemirror_mode": {
    "name": "ipython",
    "version": 3
   },
   "file_extension": ".py",
   "mimetype": "text/x-python",
   "name": "python",
   "nbconvert_exporter": "python",
   "pygments_lexer": "ipython3",
   "version": "3.7.5"
  },
  "toc": {
   "base_numbering": 1,
   "nav_menu": {},
   "number_sections": true,
   "sideBar": true,
   "skip_h1_title": false,
   "title_cell": "Table of Contents",
   "title_sidebar": "Contents",
   "toc_cell": false,
   "toc_position": {},
   "toc_section_display": true,
   "toc_window_display": false
  },
  "varInspector": {
   "cols": {
    "lenName": 16,
    "lenType": 16,
    "lenVar": 40
   },
   "kernels_config": {
    "python": {
     "delete_cmd_postfix": "",
     "delete_cmd_prefix": "del ",
     "library": "var_list.py",
     "varRefreshCmd": "print(var_dic_list())"
    },
    "r": {
     "delete_cmd_postfix": ") ",
     "delete_cmd_prefix": "rm(",
     "library": "var_list.r",
     "varRefreshCmd": "cat(var_dic_list()) "
    }
   },
   "types_to_exclude": [
    "module",
    "function",
    "builtin_function_or_method",
    "instance",
    "_Feature"
   ],
   "window_display": false
  }
 },
 "nbformat": 4,
 "nbformat_minor": 2
}
